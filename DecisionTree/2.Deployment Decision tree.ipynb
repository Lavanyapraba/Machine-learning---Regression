{
 "cells": [
  {
   "cell_type": "code",
   "execution_count": 3,
   "id": "4e6efbcb-5b75-45bd-9681-2757499aba03",
   "metadata": {},
   "outputs": [],
   "source": [
    "import pickle"
   ]
  },
  {
   "cell_type": "code",
   "execution_count": 5,
   "id": "51369f1f-b73d-4b1e-998c-0fcf9a0f11a8",
   "metadata": {},
   "outputs": [
    {
     "name": "stderr",
     "output_type": "stream",
     "text": [
      "C:\\Users\\91805\\anaconda3\\Lib\\site-packages\\sklearn\\base.py:493: UserWarning: X does not have valid feature names, but DecisionTreeRegressor was fitted with feature names\n",
      "  warnings.warn(\n"
     ]
    }
   ],
   "source": [
    "loaded_model=pickle.load(open(\"Decision_tree_final.sav\",'rb'))\n",
    "result=loaded_model.predict([[153441.51, 101145.55, 407934.54, 1, 0]])"
   ]
  },
  {
   "cell_type": "code",
   "execution_count": 7,
   "id": "800b1cf8-c7ae-41c5-a993-952d239e16f5",
   "metadata": {},
   "outputs": [
    {
     "data": {
      "text/plain": [
       "array([182901.99])"
      ]
     },
     "execution_count": 7,
     "metadata": {},
     "output_type": "execute_result"
    }
   ],
   "source": [
    "result"
   ]
  },
  {
   "cell_type": "code",
   "execution_count": null,
   "id": "9311962b-c87c-4206-a699-780afb973abe",
   "metadata": {},
   "outputs": [],
   "source": []
  }
 ],
 "metadata": {
  "kernelspec": {
   "display_name": "Python 3 (ipykernel)",
   "language": "python",
   "name": "python3"
  },
  "language_info": {
   "codemirror_mode": {
    "name": "ipython",
    "version": 3
   },
   "file_extension": ".py",
   "mimetype": "text/x-python",
   "name": "python",
   "nbconvert_exporter": "python",
   "pygments_lexer": "ipython3",
   "version": "3.12.4"
  }
 },
 "nbformat": 4,
 "nbformat_minor": 5
}
