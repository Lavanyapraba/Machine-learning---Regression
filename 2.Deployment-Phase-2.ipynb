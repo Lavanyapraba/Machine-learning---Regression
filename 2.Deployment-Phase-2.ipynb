{
 "cells": [
  {
   "cell_type": "code",
   "execution_count": 1,
   "id": "35add0e6-4339-4ae4-9961-1a044df9f692",
   "metadata": {},
   "outputs": [],
   "source": [
    "import pickle #pickle file is imported"
   ]
  },
  {
   "cell_type": "code",
   "execution_count": 3,
   "id": "7248a49b-6da0-41e0-b2e0-469b3692d68a",
   "metadata": {},
   "outputs": [
    {
     "name": "stderr",
     "output_type": "stream",
     "text": [
      "C:\\Users\\91805\\anaconda3\\Lib\\site-packages\\sklearn\\base.py:493: UserWarning: X does not have valid feature names, but LinearRegression was fitted with feature names\n",
      "  warnings.warn(\n"
     ]
    }
   ],
   "source": [
    "loaded_model=pickle.load(open(\"finalized_model_linear.sav\",'rb')) #loaded_model variable is copied from phase 1 and pasted here to load the model\n",
    "result=loaded_model.predict([[15]]) #prediction is done here"
   ]
  },
  {
   "cell_type": "code",
   "execution_count": 5,
   "id": "9c5b0167-cfc9-48d9-bd77-36620f8ddeee",
   "metadata": {},
   "outputs": [
    {
     "data": {
      "text/plain": [
       "array([[167181.3106341]])"
      ]
     },
     "execution_count": 5,
     "metadata": {},
     "output_type": "execute_result"
    }
   ],
   "source": [
    "result #result is called to get the output"
   ]
  },
  {
   "cell_type": "code",
   "execution_count": null,
   "id": "d782f5df-294e-47e6-aab6-9d80d2f0e6a4",
   "metadata": {},
   "outputs": [],
   "source": []
  }
 ],
 "metadata": {
  "kernelspec": {
   "display_name": "Python 3 (ipykernel)",
   "language": "python",
   "name": "python3"
  },
  "language_info": {
   "codemirror_mode": {
    "name": "ipython",
    "version": 3
   },
   "file_extension": ".py",
   "mimetype": "text/x-python",
   "name": "python",
   "nbconvert_exporter": "python",
   "pygments_lexer": "ipython3",
   "version": "3.12.4"
  }
 },
 "nbformat": 4,
 "nbformat_minor": 5
}
